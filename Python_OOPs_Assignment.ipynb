{
  "nbformat": 4,
  "nbformat_minor": 0,
  "metadata": {
    "colab": {
      "provenance": []
    },
    "kernelspec": {
      "name": "python3",
      "display_name": "Python 3"
    },
    "language_info": {
      "name": "python"
    }
  },
  "cells": [
    {
      "cell_type": "markdown",
      "source": [
        "#**Python OOPs Assignment**"
      ],
      "metadata": {
        "id": "7PLAISNkW9s3"
      }
    },
    {
      "cell_type": "markdown",
      "source": [
        "#**Theroy Questions & Answers:**"
      ],
      "metadata": {
        "id": "2-5pxMWQXLU6"
      }
    },
    {
      "cell_type": "markdown",
      "source": [
        "**Q1: What is Object-Oriented Programming (OOP)?**\n",
        "\n",
        "**Ans.:** **Object-Oriented Programming (OOP)** is a programming paradigm centered around the concept of **objects**, which are instances of classes. It helps organize code in a way that models real-world entities and their interactions. Here's a breakdown of the key concepts:\n",
        "\n",
        "**Core Concepts of OOP:**\n",
        "\n",
        "1.   **Class:** A blueprint for creating objects. It defines attributes (data) and methods (functions) that the objects will have.\n",
        "\n",
        "2.   **Object:** An instance of a class. It holds actual values and can perform actions defined by its class.\n",
        "\n",
        "3.   **Encapsulation:** Bundling data and methods that operate on that data within one unit (class), and restricting access to some components. This helps protect the internal state of an object.\n",
        "\n",
        "4.   **Inheritance:** A mechanism where one class (child) can inherit properties and behaviors from another class (parent), promoting code reuse.\n",
        "\n",
        "5.   **Polymorphism:** The ability to use a single interface to represent different underlying forms (data types). For example, different classes can define the same method name but behave differently.\n",
        "\n",
        "6.   **Abstraction:** Hiding complex implementation details and showing only the essential features of an object. This simplifies interaction with objects."
      ],
      "metadata": {
        "id": "fFpL1mpWzSen"
      }
    },
    {
      "cell_type": "markdown",
      "source": [
        "**Q2. What is a class in OPP?**\n",
        "\n",
        "**Ans.:** A class is like a template or mold. It doesn't hold actual data itself but defines what kind of data and operations its objects will have.\n",
        "\n",
        "**Key Components of a Class:**\n",
        "\n",
        "*   **Attributes:** Variables that hold data specific to the object.\n",
        "*   **Methods:** Functions that define behaviors or actions the object can perform.\n"
      ],
      "metadata": {
        "id": "2kwKEossHv3G"
      }
    },
    {
      "cell_type": "markdown",
      "source": [
        "**Q3. What is an object in OOP?**\n",
        "\n",
        "**Ans.:** In **Object-Oriented Programming (OOP)**, an object is a fundamental building block. It represents a real-world entity or concept in code, combining data and behavior.\n",
        "\n",
        "**Definition of an Object:**\n",
        "\n",
        "An object is an instance of a class. It contains:\n",
        "\n",
        "* **Attributes (or properties):** These are variables that hold the state/data of the object.\n",
        "\n",
        "* **Methods (or functions):** These define the behavior/actions the object can perform.\n",
        "\n",
        "**Key Characteristics of Objects:**\n",
        "\n",
        "*  **Encapsulation:** Bundles data and methods together.\n",
        "\n",
        "*  **Abstraction:** Hides complex implementation details.\n",
        "\n",
        "*  **Inheritance:** Objects can inherit properties from other classes.\n",
        "\n",
        "*  **Polymorphism:** Objects can take many forms depending on context."
      ],
      "metadata": {
        "id": "8H5yQFXBXnj3"
      }
    },
    {
      "cell_type": "markdown",
      "source": [
        "**Q4. What is the difference between abstraction and encapsulation?**\n",
        "\n",
        "**Ans.:** The concepts of **abstraction** and **encapsulation** are fundamental in object-oriented programming (OOP), but they serve different purposes. Comparison give below:\n",
        "\n",
        "**Definition of Abstraction**\n",
        "\n",
        "**Abstraction** is the process of hiding the complex implementation details and showing only the essential features of an object. It allows programmers to focus on what an object does rather than how it does it.\n",
        "\n",
        "* **Purpose:** To reduce complexity and increase efficiency by exposing only relevant data.\n",
        "* **Example:** When using a mobile phone, the user interacts with the interface (like buttons and screen) without needing to understand the internal workings of the device.\n",
        "\n",
        "In programming, abstraction is often achieved through **abstract classes** and **interfaces**, which define methods without implementing them.\n",
        "\n",
        "**Definition of Encapsulation**\n",
        "\n",
        "**Encapsulation** is the technique of wrapping data (variables) and methods (functions) that operate on the data into a single unit, i.e., a class. It also restricts direct access to some of the object's components, which is a way of protecting the integrity of the data.\n",
        "\n",
        "* **Purpose:** To safeguard data from unauthorized access and modification.\n",
        "* **Example:** In a banking application, the balance of an account should not be directly accessible. Instead, it should be modified only through methods like deposit() or withdraw().\n",
        "\n",
        "Encapsulation is implemented using access modifiers such as private, protected, and public.\n",
        "\n",
        "**Key Differences Between Abstraction and Encapsulation**\n",
        "\n",
        "|**Feature**     |**Abstraction**\t                                |**Encapsulation**         |\n",
        "|----------------|------------------------------------------------|--------------------------|\n",
        "|Focus\t         |Hides implementation details\t                  |Hides internal state and enforces access rules\n",
        "|Purpose\t       |To simplify complexity\t                        |To protect data and ensure controlled access\n",
        "|Implementation\t |Achieved using abstract classes and interfaces\t|Achieved using classes and access modifiers|\n",
        "|Usage\t         |Used to define what an object does\t            |Used to define how an object behaves internally|\n",
        "|Example\t       |Interface for a vehicle with start()            |method\tClass with private speed variable and public setSpeed() method|\n",
        "\n",
        "\n",
        "**Conclusion**\n",
        "\n",
        "In summary, abstraction and encapsulation are both essential for building robust and maintainable software systems. While abstraction helps in managing complexity by focusing on high-level operations, encapsulation ensures data security and integrity by controlling access to internal states. Understanding and applying both concepts effectively leads to better software design and development.\n",
        "\n",
        "\n",
        "\n"
      ],
      "metadata": {
        "id": "t90oRX5cZ9Fe"
      }
    },
    {
      "cell_type": "markdown",
      "source": [
        "**Q5. What Are Dunder Methods in Python?**\n",
        "\n",
        "**Ans.:** The term **dunder** stands for **“double underscore”**, referring to the naming convention of these methods. Dunder methods are always surrounded by double underscores, such as \\__init\\__, \\__str\\__, \\__add\\__, etc.\n",
        "\n",
        "These methods are not meant to be called directly by the programmer. Instead, they are invoked automatically by Python in response to certain operations.\n",
        "\n",
        "**Importance of Dunder Methods**\n",
        "\n",
        "* **Customization:** They allow developers to customize how objects behave with built-in Python operations.\n",
        "* **Readability:** They make code more intuitive and readable.\n",
        "* **Integration:** They help objects integrate seamlessly with Python's syntax and functions.\n",
        "\n",
        "**Conclusion**\n",
        "\n",
        "Dunder methods are a powerful feature in Python that enable developers to define and control the behavior of objects in a clean and Pythonic way. By understanding and using these methods effectively, programmers can write more expressive, maintainable, and efficient code.\n",
        "\n"
      ],
      "metadata": {
        "id": "Ty-EfAH8ho6m"
      }
    },
    {
      "cell_type": "markdown",
      "source": [
        "**Q6. Explain the concept of inheritance in OOP?**\n",
        "\n",
        "**Ans.:** **Inheritance** is a fundamental concept in Object-Oriented Programming that allows one class (called the **child** or **subclass**) to inherit properties and behaviors (methods and attributes) from another class (called the **parent** or **superclass**).\n",
        "\n",
        "**Use of Inheritance:**\n",
        "* **Code Reusability:** You don't have to rewrite common code.\n",
        "* **Hierarchy Representation:** It models real-world relationships (e.g., a Car is a type of Vehicle).\n",
        "* **Extensibility:** You can extend or override parent class features in the child class."
      ],
      "metadata": {
        "id": "at08SeZyNGfd"
      }
    },
    {
      "cell_type": "markdown",
      "metadata": {
        "id": "9c0602cf"
      },
      "source": [
        "**Q7. What is polymorphism in OOP?**\n",
        "\n",
        "**Ans.:** **Polymorphism** means \"many forms.\" In OOP, it refers to the ability of different objects to respond to the same method call in their own specific ways. This allows you to treat objects of different classes uniformly, as long as they share a common interface or superclass.\n",
        "\n",
        "**Key Concepts of Polymorphism:**\n",
        "\n",
        "*   **Method Overriding:** A subclass provides a specific implementation of a method that is already defined in its superclass.\n",
        "*   **Method Overloading:** (Though not directly supported in Python in the same way as some other languages, it's a concept related to polymorphism) Having multiple methods with the same name but different parameters within the same class. Python achieves similar results using default arguments or variable-length arguments.\n",
        "\n",
        "**Benefits of Polymorphism:**\n",
        "\n",
        "*   **Flexibility:** Code becomes more adaptable to different types of objects.\n",
        "*   **Maintainability:** Changes to individual class implementations don't necessarily affect the code that uses polymorphic objects.\n",
        "*   **Readability:** Code can be written in a more generic way, making it easier to understand."
      ]
    },
    {
      "cell_type": "markdown",
      "metadata": {
        "id": "e8866ba9"
      },
      "source": [
        "**Q8. How is encapsulation achieved in Python?**\n",
        "\n",
        "**Ans.:** In Python, encapsulation is achieved through the use of **classes** and naming conventions to control access to attributes and methods. While Python doesn't have strict access modifiers like `private` or `public` in the same way as some other languages (like Java or C++), it uses conventions to indicate the intended visibility of members.\n",
        "\n",
        "**Key Mechanisms:**\n",
        "\n",
        "*   **Classes:** Bundling data (attributes) and methods that operate on that data within a single unit (a class) is the primary way to achieve encapsulation.\n",
        "*   **Naming Conventions:**\n",
        "    *   **Public:** Attributes and methods without a leading underscore are considered public and can be accessed from outside the class.\n",
        "    *   **Protected:** Attributes and methods prefixed with a single underscore (e.g., `_my_attribute`) are conventionally considered protected. This is a hint to other developers that these members are intended for internal use within the class or its subclasses, but they can still be accessed from outside if necessary.\n",
        "    *   **Private:** Attributes and methods prefixed with a double underscore (e.g., `__my_private_attribute`) undergo **name mangling**. This means Python internally changes the name to include the class name (e.g., `_ClassName__my_private_attribute`), making it harder (but not impossible) to access them directly from outside the class. This provides a stronger form of encapsulation."
      ]
    },
    {
      "cell_type": "markdown",
      "metadata": {
        "id": "8d0caf76"
      },
      "source": [
        "**Q9. What is a constructor in Python?**\n",
        "\n",
        "**Ans.:** In Python, a **constructor** is a special method used to initialize objects of a class. It is automatically called when you create a new instance of a class. The most common constructor in Python is the `__init__` method.\n",
        "\n",
        "**Key Points about Constructors:**\n",
        "\n",
        "*   **`__init__` Method:** The `__init__` method is the designated constructor in Python. It takes `self` as its first parameter, which refers to the instance of the object being created. Additional parameters can be included to accept arguments for initializing the object's attributes.\n",
        "*   **Initialization:** The primary purpose of the constructor is to set the initial state of the object by assigning values to its attributes.\n",
        "*   **Automatic Invocation:** You don't explicitly call the `__init__` method. It is automatically invoked when you create an object using the class name followed by parentheses (e.g., `my_object = MyClass(arguments)`)."
      ]
    },
    {
      "cell_type": "markdown",
      "metadata": {
        "id": "67cb7e7a"
      },
      "source": [
        "**Q10. What are class and static methods in Python?**\n",
        "\n",
        "**Ans.:** In Python, **class methods** and **static methods** are types of methods that are bound to the class or have no binding to the class or the instance, respectively. They differ from regular instance methods, which are bound to an instance of the class.\n",
        "\n",
        "**Class Methods:**\n",
        "\n",
        "*   Defined using the `@classmethod` decorator.\n",
        "*   The first parameter is conventionally named `cls`, which refers to the class itself (not the instance).\n",
        "*   Can access or modify the class state.\n",
        "*   Often used as alternative constructors.\n",
        "\n",
        "**Static Methods:**\n",
        "\n",
        "*   Defined using the `@staticmethod` decorator.\n",
        "*   Do not take `self` or `cls` as the first parameter.\n",
        "*   Cannot access or modify the class state or instance state.\n",
        "*   Behave like regular functions but are logically grouped within a class. They are useful for utility functions that don't need access to instance or class-specific data.\n",
        "\n",
        "**Key Differences:**\n",
        "\n",
        "| Feature          | Instance Method                 | Class Method                    | Static Method                   |\n",
        "|------------------|---------------------------------|---------------------------------|---------------------------------|\n",
        "| First Parameter  | `self` (instance)               | `cls` (class)                   | None                            |\n",
        "| Access to State  | Instance and Class State        | Class State                     | Neither Class nor Instance State |\n",
        "| Decorator        | None (default)                  | `@classmethod`                  | `@staticmethod`                 |\n",
        "| Use Cases        | Instance-specific operations    | Alternative constructors, modifying class state | Utility functions within a class |"
      ]
    },
    {
      "cell_type": "markdown",
      "metadata": {
        "id": "45928acf"
      },
      "source": [
        "**Q11. What is method overloading in Python?**\n",
        "\n",
        "**Ans.:** **Method overloading**, in the traditional sense (like in languages such as Java or C++ where you can have multiple methods with the same name but different parameter lists), is not directly supported in Python. Python's dynamic typing allows for more flexibility.\n",
        "\n",
        "However, you can achieve similar behavior in Python using:\n",
        "\n",
        "*   **Default arguments:** Define a method with optional parameters that have default values.\n",
        "*   **Variable-length arguments (`*args` and `**kwargs`):** Allow a method to accept a variable number of positional or keyword arguments.\n",
        "\n",
        "**How Python Handles Method Overloading (or similar behavior):**\n",
        "\n",
        "When you define multiple methods with the same name in a Python class, the *last* definition will overwrite the previous ones. Python doesn't distinguish methods based on their parameter lists in the same way statically-typed languages do.\n",
        "\n",
        "By using default arguments or `*args` and `**kwargs`, you can create a single method that can handle different numbers or types of arguments, effectively achieving a form of polymorphism that is conceptually similar to method overloading.\n",
        "\n",
        "**Example using Default Arguments:**"
      ]
    },
    {
      "cell_type": "code",
      "metadata": {
        "colab": {
          "base_uri": "https://localhost:8080/"
        },
        "id": "5449b527",
        "outputId": "5780c119-0188-4bcf-8ec0-bc51c6e2116a"
      },
      "source": [
        "class Calculator:\n",
        "    def add(self, *args):\n",
        "        return sum(args)\n",
        "\n",
        "# Usage\n",
        "calc = Calculator()\n",
        "print(calc.add(1, 2))          # Output: 3\n",
        "print(calc.add(1, 2, 3, 4))    # Output: 10"
      ],
      "execution_count": null,
      "outputs": [
        {
          "output_type": "stream",
          "name": "stdout",
          "text": [
            "3\n",
            "10\n"
          ]
        }
      ]
    },
    {
      "cell_type": "markdown",
      "metadata": {
        "id": "7de51892"
      },
      "source": [
        "**Q12. What is method overriding in OOP?**\n",
        "\n",
        "**Ans.:** **Method overriding** is a key concept in inheritance where a subclass provides a specific implementation for a method that is already defined in its superclass. This allows subclasses to have their own unique behavior for a method that is inherited from a parent class.\n",
        "\n",
        "**Key Points about Method Overriding:**\n",
        "\n",
        "*   **Same Method Signature:** The method in the subclass must have the same name, number, and type of parameters as the method in the superclass.\n",
        "*   **Inheritance Required:** Method overriding can only occur in a relationship between a superclass and a subclass.\n",
        "*   **Runtime Polymorphism:** When an object of the subclass is used, the overridden method in the subclass is called instead of the method in the superclass. This is an example of runtime polymorphism."
      ]
    },
    {
      "cell_type": "markdown",
      "metadata": {
        "id": "90339a6e"
      },
      "source": [
        "**Q13. What is a property decorator in Python?**\n",
        "\n",
        "**Ans.:** In Python, the `@property` decorator is a built-in decorator that provides an elegant way to define getters, setters, and deleters for class attributes. It allows you to access methods as if they were attributes, providing a way to control access to your data and add logic when attributes are accessed or modified.\n",
        "\n",
        "**How it Works:**\n",
        "\n",
        "The `@property` decorator is typically used above a method that returns the value of a private attribute (the getter). You can then define additional methods with the same name as the property, decorated with `@<property_name>.setter` and `@<property_name>.deleter`, to handle setting and deleting the attribute, respectively.\n",
        "\n",
        "**Benefits of using `@property`:**\n",
        "\n",
        "*   **Encapsulation:** It helps encapsulate the internal representation of an attribute, allowing you to change the internal implementation without affecting the external interface.\n",
        "*   **Validation:** You can add validation logic in the setter method to ensure that the attribute is assigned valid values.\n",
        "*   **Readability:** It makes the code more readable by allowing you to access methods like attributes."
      ]
    },
    {
      "cell_type": "markdown",
      "metadata": {
        "id": "15c3a547"
      },
      "source": [
        "**Q14. Why is polymorphism important in OOP?**\n",
        "\n",
        "**Ans.:** Polymorphism is crucial in OOP for several reasons:\n",
        "\n",
        "*   **Code Flexibility and Extensibility:** It allows you to write code that can work with objects of different types in a uniform way. This makes your code more flexible and easier to extend with new classes in the future without modifying existing code.\n",
        "*   **Reduced Code Duplication:** You can use a single interface or method call to perform similar actions on different types of objects, reducing the need for repetitive `if-elif-else` statements or type checking.\n",
        "*   **Improved Readability and Maintainability:** Polymorphic code is often more readable because it focuses on the action being performed rather than the specific type of the object. This makes the code easier to understand and maintain.\n",
        "*   **Decoupling:** It helps to decouple the calling code from the specific implementation details of the objects it interacts with. This means that changes to the implementation of a class are less likely to affect the code that uses that class polymorphically.\n",
        "\n",
        "In essence, polymorphism enables you to write more generic, adaptable, and maintainable code by allowing objects of different classes to be treated through a common interface."
      ]
    },
    {
      "cell_type": "markdown",
      "metadata": {
        "id": "68813bd5"
      },
      "source": [
        "**Q15. What is an abstract class in Python?**\n",
        "\n",
        "**Ans.:** An **abstract class** in Python is a class that cannot be instantiated directly. It is designed to be a blueprint for other classes, and it typically contains one or more **abstract methods**. Abstract methods are declared in the abstract class but do not have an implementation; subclasses are required to provide their own implementation for these methods.\n",
        "\n",
        "**Key Characteristics of Abstract Classes:**\n",
        "\n",
        "*   **Cannot be Instantiated:** You cannot create an object directly from an abstract class.\n",
        "*   **Require Subclassing:** Abstract classes are meant to be inherited by other classes.\n",
        "*   **Contain Abstract Methods:** They define methods that must be implemented by their concrete subclasses.\n",
        "*   **Enforce Structure:** They enforce a common structure and behavior among their subclasses.\n",
        "\n",
        "In Python, abstract classes are implemented using the `abc` module (Abstract Base Classes). You inherit from `ABC` and use the `@abstractmethod` decorator for abstract methods."
      ]
    },
    {
      "cell_type": "markdown",
      "metadata": {
        "id": "523bac46"
      },
      "source": [
        "**Q16. What are the advantages of OOP?**\n",
        "\n",
        "**Ans.:** Object-Oriented Programming (OOP) offers several advantages that contribute to building robust, maintainable, and scalable software systems. Some key advantages include:\n",
        "\n",
        "*   **Modularity:** OOP promotes breaking down complex problems into smaller, manageable objects. This makes the code easier to understand, develop, and debug.\n",
        "*   **Reusability:** Inheritance allows new classes to reuse the properties and behaviors of existing classes, reducing code duplication and saving development time.\n",
        "*   **Maintainability:** Encapsulation and abstraction make it easier to maintain and update code. Changes within an object's internal implementation do not necessarily affect other parts of the program, as long as the external interface remains the same.\n",
        "*   **Flexibility and Extensibility:** Polymorphism allows for writing flexible code that can work with different object types. New classes can be added easily without modifying existing code, making the system extensible.\n",
        "*   **Improved Collaboration:** The modular nature of OOP makes it easier for multiple developers to work on different parts of a project simultaneously.\n",
        "*   **Better Problem Solving:** OOP allows you to model real-world entities and their interactions, which can lead to a more intuitive and effective approach to problem-solving."
      ]
    },
    {
      "cell_type": "markdown",
      "metadata": {
        "id": "e9abb240"
      },
      "source": [
        "**Q17. What is the difference between a class variable and an instance variable?**\n",
        "\n",
        "**Ans.:** In Python, **class variables** and **instance variables** are used to store data within a class, but they differ in how their values are scoped and accessed.\n",
        "\n",
        "**Class Variables:**\n",
        "\n",
        "*   Defined within the class but outside of any methods.\n",
        "*   Shared among all instances of the class.\n",
        "*   Accessed using the class name or an instance of the class (though accessing via the class name is preferred for clarity when referencing the class variable directly).\n",
        "*   Useful for storing data that is common to all objects of a class, such as constants or default values.\n",
        "\n",
        "**Instance Variables:**\n",
        "\n",
        "*   Defined within the methods of a class, typically in the `__init__` constructor using `self.variable_name`.\n",
        "*   Unique to each instance of the class.\n",
        "*   Accessed using an instance of the class (e.g., `my_object.variable_name`).\n",
        "*   Useful for storing data that is specific to a particular object.\n",
        "\n",
        "**Key Differences:**\n",
        "\n",
        "| Feature          | Class Variable                      | Instance Variable                   |\n",
        "|------------------|-------------------------------------|-------------------------------------|\n",
        "| Definition Location | Inside the class, outside methods | Inside methods (usually `__init__`) |\n",
        "| Scope            | Shared among all instances          | Unique to each instance             |\n",
        "| Access           | ClassName.variable or instance.variable | instance.variable                   |\n",
        "| Purpose          | Store data common to all instances  | Store data specific to an instance  |\n"
      ]
    },
    {
      "cell_type": "markdown",
      "metadata": {
        "id": "4c64858b"
      },
      "source": [
        "**Q18. What is multiple inheritance in Python?**\n",
        "\n",
        "**Ans.:** **Multiple inheritance** is a feature in Object-Oriented Programming where a class can inherit attributes and methods from more than one parent class. This allows a subclass to combine features from multiple sources.\n",
        "\n",
        "**How it Works in Python:**\n",
        "\n",
        "In Python, you can define a class that inherits from multiple classes by listing them in the parentheses after the class name, separated by commas."
      ]
    },
    {
      "cell_type": "markdown",
      "metadata": {
        "id": "6ef48403"
      },
      "source": [
        "**Q19. Explain the purpose of `__str__` and `__repr__` methods in Python?**\n",
        "\n",
        "**Ans.:** In Python, `__str__` and `__repr__` are special dunder methods used to define the string representation of an object. While they both return strings, they serve different purposes and are intended for different audiences.\n",
        "\n",
        "**`__str__` Method:**\n",
        "\n",
        "*   **Purpose:** To provide a user-friendly string representation of an object.\n",
        "*   **Target Audience:** Humans (users of the object).\n",
        "*   **Invocation:** Called by the built-in `str()` function and `print()` function.\n",
        "*   **Output:** Should be readable and informative for the end-user.\n",
        "\n",
        "**`__repr__` Method:**\n",
        "\n",
        "*   **Purpose:** To provide an unambiguous string representation of an object that could ideally be used to recreate the object.\n",
        "*   **Target Audience:** Developers (for debugging and development).\n",
        "*   **Invocation:** Called by the built-in `repr()` function and in interactive sessions when an object is the last expression evaluated.\n",
        "*   **Output:** Should be detailed enough to help a developer understand the object's state. If possible, it should be a valid Python expression that could be used to recreate the object.\n",
        "\n",
        "**Relationship between `__str__` and `__repr__`:**\n",
        "\n",
        "*   If a class defines `__repr__` but not `__str__`, calling `str()` on an object of that class will default to calling `__repr__`.\n",
        "*   If a class defines `__str__` but not `__repr__`, calling `repr()` on an object will return the default `__repr__` provided by the object class.\n",
        "*   It is generally recommended to always define `__repr__` for your custom classes, and define `__str__` if you need a separate user-friendly representation."
      ]
    },
    {
      "cell_type": "markdown",
      "metadata": {
        "id": "2979eed6"
      },
      "source": [
        "**Q20. What is the significance of the `super()` function in Python?**\n",
        "\n",
        "**Ans.:** The `super()` function in Python is used to refer to the parent or superclass. It has two primary uses:\n",
        "\n",
        "*   **Calling Parent Class Methods:** The most common use of `super()` is to call a method from the parent class within a subclass. This is particularly useful when overriding a method in the subclass but still wanting to execute the parent class's implementation of that method.\n",
        "*   **Accessing Parent Class Attributes:** While less common, `super()` can also be used to access attributes of the parent class, especially in the context of multiple inheritance to handle the Method Resolution Order (MRO).\n",
        "\n",
        "**Significance:**\n",
        "\n",
        "*   **Proper Inheritance:** `super()` ensures that the correct method from the parent class is called, respecting the Method Resolution Order (MRO) in multiple inheritance scenarios.\n",
        "*   **Code Maintainability:** It makes the code more maintainable by avoiding hardcoding the parent class name, which is important if the class hierarchy changes.\n",
        "*   **Facilitates Multiple Inheritance:** `super()` is essential for coordinating calls in complex multiple inheritance structures."
      ]
    },
    {
      "cell_type": "markdown",
      "metadata": {
        "id": "6b089f8f"
      },
      "source": [
        "**Q21. What is the significance of the `__del__` method in Python?**\n",
        "\n",
        "**Ans.:** The `__del__` method in Python is a special dunder method known as the **destructor**. It is called when an object is about to be garbage collected, providing an opportunity to perform cleanup operations.\n",
        "\n",
        "**Significance and Use Cases:**\n",
        "\n",
        "*   **Resource Management:** The primary significance of `__del__` is for releasing external resources that an object might be holding, such as file handles, network connections, or database connections, when the object is no longer needed.\n",
        "*   **Cleanup Operations:** It can be used to perform any necessary cleanup before an object is destroyed.\n",
        "\n",
        "**Important Considerations:**\n",
        "\n",
        "*   **Unpredictable Invocation:** The exact timing of when `__del__` is called is not guaranteed due to Python's garbage collection mechanism. Objects might persist longer than expected or might not be garbage collected at all in certain situations.\n",
        "*   **Avoid Relying Heavily:** It is generally discouraged to rely heavily on `__del__` for critical resource management. Using context managers (`with` statements) or explicit cleanup methods is often a more reliable approach.\n",
        "*   **Potential Issues:** Using `__del__` can sometimes lead to unexpected behavior or issues, especially in complex scenarios involving circular references.\n",
        "\n",
        "In summary, `__del__` is a mechanism for performing cleanup when an object is garbage collected, but its unpredictable nature means it should be used cautiously and is often not the preferred method for resource management compared to alternatives like context managers."
      ]
    },
    {
      "cell_type": "markdown",
      "metadata": {
        "id": "69ed142d"
      },
      "source": [
        "**Q22. What is the difference between `@staticmethod` and `@classmethod` in Python?**\n",
        "\n",
        "**Ans.:** In Python, both `@staticmethod` and `@classmethod` are decorators used to define methods within a class that behave differently from regular instance methods. The key difference lies in their first parameter and how they interact with the class and its instances.\n",
        "\n",
        "**`@classmethod`:**\n",
        "\n",
        "*   Takes the class as its first parameter, conventionally named `cls`.\n",
        "*   Can access and modify the class state.\n",
        "*   Can be called on both the class and its instances.\n",
        "*   Often used for factory methods that return an instance of the class, or to access class-level data.\n",
        "\n",
        "**`@staticmethod`:**\n",
        "\n",
        "*   Does not take `self` (instance) or `cls` (class) as its first parameter.\n",
        "*   Cannot access or modify the class state or instance state.\n",
        "*   Behaves like a regular function but is logically grouped within the class.\n",
        "*   Useful for utility functions that don't need access to instance or class-specific data.\n",
        "\n",
        "**Key Differences:**\n",
        "\n",
        "| Feature          | `@classmethod`                  | `@staticmethod`                 |\n",
        "|------------------|---------------------------------|---------------------------------|\n",
        "| First Parameter  | `cls` (class)                   | None                            |\n",
        "| Access to State  | Class State                     | Neither Class nor Instance State |\n",
        "| Use Cases        | Alternative constructors, modifying class state | Utility functions within a class |"
      ]
    },
    {
      "cell_type": "markdown",
      "metadata": {
        "id": "1fefdde3"
      },
      "source": [
        "**Q23. How does polymorphism work in Python with inheritance?**\n",
        "\n",
        "**Ans.:** In Python, polymorphism with inheritance allows objects of different classes that share a common superclass to be treated uniformly. This is primarily achieved through **method overriding**.\n",
        "\n",
        "When a subclass inherits from a superclass, it can provide its own implementation for a method that is already defined in the superclass. If you then have a variable or a function that expects an object of the superclass, you can pass an object of the subclass instead. When the method is called on this object, the specific implementation in the subclass will be executed, not the one in the superclass.\n",
        "\n",
        "This means you can write code that interacts with objects at the superclass level, and the behavior will be determined by the actual type of the object at runtime. This makes your code more flexible and extensible, as you can add new subclasses without changing the code that uses the superclass.\n",
        "\n",
        "**Key Aspect:**\n",
        "\n",
        "*   **Method Overriding:** Subclasses providing their own implementation of a superclass method is the core mechanism for polymorphism with inheritance in Python."
      ]
    },
    {
      "cell_type": "markdown",
      "metadata": {
        "id": "d8b4eeeb"
      },
      "source": [
        "**Q24. What is method chaining in Python OOP?**\n",
        "\n",
        "**Ans.:** **Method chaining** in Python OOP is a programming technique where multiple method calls are linked together on a single object. This is achieved by having each method return the object itself (`self`) after performing its operation. This allows you to perform a sequence of operations in a concise and readable way.\n",
        "\n",
        "**How it Works:**\n",
        "\n",
        "When a method within a class returns `self`, the result of that method call is the object instance. You can then immediately call another method on that same object instance, and so on.\n",
        "\n",
        "**Benefits of Method Chaining:**\n",
        "\n",
        "*   **Readability:** It can make code more readable by expressing a sequence of operations in a single line or a clear chain.\n",
        "*   **Conciseness:** It can reduce the amount of code needed compared to calling each method on a separate line.\n",
        "*   **Fluent Interface:** It can contribute to creating a fluent interface, where the code reads more like natural language."
      ]
    },
    {
      "cell_type": "markdown",
      "metadata": {
        "id": "08d66984"
      },
      "source": [
        "**Q25. What is the purpose of the `__call__` method in Python?**\n",
        "\n",
        "**Ans.:** The `__call__` method in Python is a special dunder method that allows an instance of a class to be called like a function. When you define the `__call__` method in a class, you can treat objects of that class as callable objects.\n",
        "\n",
        "**Purpose and Use Cases:**\n",
        "\n",
        "*   **Creating Callable Objects:** The primary purpose is to make instances of your classes callable, providing a convenient way to execute a specific behavior associated with the object using function-call syntax.\n",
        "*   **Implementing Functors:** Objects that define `__call__` are sometimes referred to as \"functors\" (function objects). They can be useful in situations where you need an object that maintains state but can be invoked like a function.\n",
        "*   **Creating Objects that Behave Like Functions:** This can be useful for creating objects that encapsulate both data and behavior and can be used in contexts where a function is expected (e.g., as callbacks or in functional programming paradigms).\n",
        "\n",
        "**How it Works:**\n",
        "\n",
        "When you call an instance of a class that has a `__call__` method (e.g., `my_object(arguments)`), Python automatically invokes the `__call__` method of that object, passing any provided arguments to it."
      ]
    },
    {
      "cell_type": "markdown",
      "source": [
        "#**Practical Questions & Answers:**"
      ],
      "metadata": {
        "id": "NXXzzBMkXUU7"
      }
    },
    {
      "cell_type": "markdown",
      "metadata": {
        "id": "ff346650"
      },
      "source": [
        "**Q1. Create a parent class Animal with a method speak() that prints a generic message. Create a child class Dog that overrides the speak() method to print \"Bark!\".**\n",
        "\n",
        "**Ans.:** This question demonstrates **inheritance** and **method overriding**. We create a base class `Animal` with a `speak` method. Then, we create a derived class `Dog` that inherits from `Animal` and overrides the `speak` method with its own implementation."
      ]
    },
    {
      "cell_type": "code",
      "metadata": {
        "colab": {
          "base_uri": "https://localhost:8080/"
        },
        "id": "15c22712",
        "outputId": "d93216c7-c56e-48e4-c510-e3a1980c8035"
      },
      "source": [
        "class Animal:\n",
        "    def speak(self):\n",
        "        print(\"Generic animal sound\")\n",
        "\n",
        "class Dog(Animal):\n",
        "    def speak(self):\n",
        "        print(\"Bark!\")\n",
        "\n",
        "# Create an instance of Dog\n",
        "my_dog = Dog()\n",
        "my_dog.speak()"
      ],
      "execution_count": null,
      "outputs": [
        {
          "output_type": "stream",
          "name": "stdout",
          "text": [
            "Bark!\n"
          ]
        }
      ]
    },
    {
      "cell_type": "markdown",
      "metadata": {
        "id": "f46a4a9c"
      },
      "source": [
        "**Q2. Write a program to create an abstract class Shape with a method area(). Derive classes Circle and Rectangle from it and implement the area() method in both.**\n",
        "\n",
        "**Ans.:** This question demonstrates **abstract classes** and **polymorphism**. We create an abstract base class `Shape` with an abstract method `area`. Then, we create derived classes `Circle` and `Rectangle` that inherit from `Shape` and provide their own implementation for the `area` method."
      ]
    },
    {
      "cell_type": "code",
      "metadata": {
        "colab": {
          "base_uri": "https://localhost:8080/"
        },
        "id": "f26f3054",
        "outputId": "bce37690-b178-4df3-a163-a6f0ebbd46eb"
      },
      "source": [
        "from abc import ABC, abstractmethod\n",
        "import math\n",
        "\n",
        "class Shape(ABC):\n",
        "    @abstractmethod\n",
        "    def area(self):\n",
        "        pass\n",
        "\n",
        "class Circle(Shape):\n",
        "    def __init__(self, radius):\n",
        "        self.radius = radius\n",
        "\n",
        "    def area(self):\n",
        "        return math.pi * self.radius**2\n",
        "\n",
        "class Rectangle(Shape):\n",
        "    def __init__(self, length, width):\n",
        "        self.length = length\n",
        "        self.width = width\n",
        "\n",
        "    def area(self):\n",
        "        return self.length * self.width\n",
        "\n",
        "# Example usage\n",
        "# shape = Shape() # This would raise a TypeError because Shape is abstract\n",
        "\n",
        "circle = Circle(5)\n",
        "rectangle = Rectangle(4, 6)\n",
        "\n",
        "print(f\"Area of circle: {circle.area()}\")\n",
        "print(f\"Area of rectangle: {rectangle.area()}\")"
      ],
      "execution_count": null,
      "outputs": [
        {
          "output_type": "stream",
          "name": "stdout",
          "text": [
            "Area of circle: 78.53981633974483\n",
            "Area of rectangle: 24\n"
          ]
        }
      ]
    },
    {
      "cell_type": "markdown",
      "metadata": {
        "id": "02c22680"
      },
      "source": [
        "**Q3. Implement a multi-level inheritance scenario where a class Vehicle has an attribute type. Derive a class Car and further derive a class ElectricCar that adds a battery attribute.**\n",
        "\n",
        "**Ans.:** This question demonstrates **multi-level inheritance**. We create a base class `Vehicle`, a derived class `Car` that inherits from `Vehicle`, and another derived class `ElectricCar` that inherits from `Car`."
      ]
    },
    {
      "cell_type": "code",
      "metadata": {
        "colab": {
          "base_uri": "https://localhost:8080/"
        },
        "id": "6e91e1cf",
        "outputId": "df9fe827-1fdb-4699-9ce3-5a12410d63f2"
      },
      "source": [
        "class Vehicle:\n",
        "    def __init__(self, vehicle_type):\n",
        "        self.vehicle_type = vehicle_type\n",
        "\n",
        "class Car(Vehicle):\n",
        "    def __init__(self, vehicle_type, model):\n",
        "        super().__init__(vehicle_type)\n",
        "        self.model = model\n",
        "\n",
        "class ElectricCar(Car):\n",
        "    def __init__(self, vehicle_type, model, battery_capacity):\n",
        "        super().__init__(vehicle_type, model)\n",
        "        self.battery_capacity = battery_capacity\n",
        "\n",
        "# Example usage\n",
        "my_electric_car = ElectricCar(\"Car\", \"Tesla Model 3\", \"75 kWh\")\n",
        "\n",
        "print(f\"Vehicle Type: {my_electric_car.vehicle_type}\")\n",
        "print(f\"Model: {my_electric_car.model}\")\n",
        "print(f\"Battery Capacity: {my_electric_car.battery_capacity}\")"
      ],
      "execution_count": null,
      "outputs": [
        {
          "output_type": "stream",
          "name": "stdout",
          "text": [
            "Vehicle Type: Car\n",
            "Model: Tesla Model 3\n",
            "Battery Capacity: 75 kWh\n"
          ]
        }
      ]
    },
    {
      "cell_type": "markdown",
      "metadata": {
        "id": "82f39efe"
      },
      "source": [
        "**Q4. Demonstrate polymorphism by creating a base class Bird with a method fly(). Create two derived classes Sparrow and Penguin that override the fly() method.**\n",
        "\n",
        "**Ans.:** This question demonstrates **polymorphism** through **method overriding**. We create a base class `Bird` with a `fly` method. Then, we create derived classes `Sparrow` and `Penguin` that inherit from `Bird` and provide their own implementations for the `fly` method."
      ]
    },
    {
      "cell_type": "code",
      "metadata": {
        "colab": {
          "base_uri": "https://localhost:8080/"
        },
        "id": "00d6da04",
        "outputId": "4af317ec-591a-4add-e4e6-62a41d20ecdb"
      },
      "source": [
        "class Bird:\n",
        "    def fly(self):\n",
        "        print(\"Most birds can fly\")\n",
        "\n",
        "class Sparrow(Bird):\n",
        "    def fly(self):\n",
        "        print(\"Sparrows can fly short distances\")\n",
        "\n",
        "class Penguin(Bird):\n",
        "    def fly(self):\n",
        "        print(\"Penguins cannot fly, but they can swim!\")\n",
        "\n",
        "# Example usage\n",
        "generic_bird = Bird()\n",
        "sparrow = Sparrow()\n",
        "penguin = Penguin()\n",
        "\n",
        "generic_bird.fly()\n",
        "sparrow.fly()\n",
        "penguin.fly()"
      ],
      "execution_count": null,
      "outputs": [
        {
          "output_type": "stream",
          "name": "stdout",
          "text": [
            "Most birds can fly\n",
            "Sparrows can fly short distances\n",
            "Penguins cannot fly, but they can swim!\n"
          ]
        }
      ]
    },
    {
      "cell_type": "markdown",
      "metadata": {
        "id": "3aa3631f"
      },
      "source": [
        "**Q5. Write a program to demonstrate encapsulation by creating a class BankAccount with private attributes balance and methods to deposit, withdraw, and check balance.**\n",
        "\n",
        "**Ans.:** This question demonstrates **encapsulation**. We create a `BankAccount` class with a private attribute `__balance` and public methods (`deposit`, `withdraw`, `check_balance`) to access and modify the balance. This encapsulates the balance data within the class and controls access to it through the methods."
      ]
    },
    {
      "cell_type": "code",
      "metadata": {
        "colab": {
          "base_uri": "https://localhost:8080/"
        },
        "id": "0ba1fc30",
        "outputId": "3411e71a-d38d-4caf-edf8-5f6852b60141"
      },
      "source": [
        "class BankAccount:\n",
        "    def __init__(self, initial_balance):\n",
        "        self.__balance = initial_balance  # Private attribute\n",
        "\n",
        "    def deposit(self, amount):\n",
        "        if amount > 0:\n",
        "            self.__balance += amount\n",
        "            print(f\"Deposited: ${amount}. New balance: ${self.__balance}\")\n",
        "        else:\n",
        "            print(\"Deposit amount must be positive.\")\n",
        "\n",
        "    def withdraw(self, amount):\n",
        "        if amount > 0:\n",
        "            if self.__balance >= amount:\n",
        "                self.__balance -= amount\n",
        "                print(f\"Withdrew: ${amount}. New balance: ${self.__balance}\")\n",
        "            else:\n",
        "                print(\"Insufficient funds.\")\n",
        "        else:\n",
        "            print(\"Withdrawal amount must be positive.\")\n",
        "\n",
        "    def check_balance(self):\n",
        "        print(f\"Current balance: ${self.__balance}\")\n",
        "\n",
        "# Example usage\n",
        "account = BankAccount(1000)\n",
        "account.deposit(500)\n",
        "account.withdraw(200)\n",
        "account.check_balance()\n",
        "# Trying to access the private attribute directly will result in an AttributeError\n",
        "# print(account.__balance)"
      ],
      "execution_count": null,
      "outputs": [
        {
          "output_type": "stream",
          "name": "stdout",
          "text": [
            "Deposited: $500. New balance: $1500\n",
            "Withdrew: $200. New balance: $1300\n",
            "Current balance: $1300\n"
          ]
        }
      ]
    },
    {
      "cell_type": "markdown",
      "metadata": {
        "id": "2e58d8cd"
      },
      "source": [
        "**Q6. Demonstrate runtime polymorphism using a method play() in a base class Instrument. Derive classes Guitar and Piano that implement their own version of play().**\n",
        "\n",
        "**Ans.:** This question demonstrates **runtime polymorphism** through **method overriding**. We create a base class `Instrument` with a `play` method. Then, we create derived classes `Guitar` and `Piano` that inherit from `Instrument` and provide their own implementations for the `play` method."
      ]
    },
    {
      "cell_type": "code",
      "metadata": {
        "colab": {
          "base_uri": "https://localhost:8080/"
        },
        "id": "6ce96edb",
        "outputId": "260bcc8b-ae26-4677-d117-c21ac7b53ee1"
      },
      "source": [
        "class Instrument:\n",
        "    def play(self):\n",
        "        print(\"Playing a generic instrument sound\")\n",
        "\n",
        "class Guitar(Instrument):\n",
        "    def play(self):\n",
        "        print(\"Strumming the guitar\")\n",
        "\n",
        "class Piano(Instrument):\n",
        "    def play(self):\n",
        "        print(\"Playing the piano keys\")\n",
        "\n",
        "# Example usage\n",
        "instrument = Instrument()\n",
        "guitar = Guitar()\n",
        "piano = Piano()\n",
        "\n",
        "instruments = [instrument, guitar, piano]\n",
        "\n",
        "for inst in instruments:\n",
        "    inst.play()"
      ],
      "execution_count": null,
      "outputs": [
        {
          "output_type": "stream",
          "name": "stdout",
          "text": [
            "Playing a generic instrument sound\n",
            "Strumming the guitar\n",
            "Playing the piano keys\n"
          ]
        }
      ]
    },
    {
      "cell_type": "markdown",
      "metadata": {
        "id": "0dcf0cec"
      },
      "source": [
        "**Q7. Create a class MathOperations with a class method add_numbers() to add two numbers and a static method subtract_numbers() to subtract two numbers.**\n",
        "\n",
        "**Ans.:** This question demonstrates the use of **class methods** and **static methods**. We create a class `MathOperations` with a class method `add_numbers` that takes the class as the first argument and adds two numbers. We also include a static method `subtract_numbers` that does not take any implicit first argument and subtracts two numbers."
      ]
    },
    {
      "cell_type": "code",
      "metadata": {
        "colab": {
          "base_uri": "https://localhost:8080/"
        },
        "id": "1631a2a3",
        "outputId": "5ea2d8e5-a4ce-4f45-9ddc-7c63dc434840"
      },
      "source": [
        "class MathOperations:\n",
        "    @classmethod\n",
        "    def add_numbers(cls, x, y):\n",
        "        return x + y\n",
        "\n",
        "    @staticmethod\n",
        "    def subtract_numbers(x, y):\n",
        "        return x - y\n",
        "\n",
        "# Example usage\n",
        "sum_result = MathOperations.add_numbers(10, 5)\n",
        "print(f\"Sum using class method: {sum_result}\")\n",
        "\n",
        "diff_result = MathOperations.subtract_numbers(10, 5)\n",
        "print(f\"Difference using static method: {diff_result}\")"
      ],
      "execution_count": null,
      "outputs": [
        {
          "output_type": "stream",
          "name": "stdout",
          "text": [
            "Sum using class method: 15\n",
            "Difference using static method: 5\n"
          ]
        }
      ]
    },
    {
      "cell_type": "markdown",
      "metadata": {
        "id": "c70f5190"
      },
      "source": [
        "**Q8. Implement a class Person with a class method to count the total number of persons created.**\n",
        "\n",
        "**Ans.:** This question demonstrates the use of a **class variable** and a **class method**. We create a class `Person` with a class variable `person_count` initialized to 0. We increment this variable in the `__init__` constructor each time a new `Person` object is created. A class method `get_person_count` is used to access the class variable."
      ]
    },
    {
      "cell_type": "code",
      "metadata": {
        "colab": {
          "base_uri": "https://localhost:8080/"
        },
        "id": "decfe826",
        "outputId": "fe77f8e4-33b7-429f-ccd8-6f496f364c93"
      },
      "source": [
        "class Person:\n",
        "    person_count = 0  # Class variable\n",
        "\n",
        "    def __init__(self, name):\n",
        "        self.name = name\n",
        "        Person.person_count += 1  # Increment class variable\n",
        "\n",
        "    @classmethod\n",
        "    def get_person_count(cls):\n",
        "        return cls.person_count\n",
        "\n",
        "# Example usage\n",
        "person1 = Person(\"Rakesh\")\n",
        "person2 = Person(\"Ajay\")\n",
        "person3 = Person(\"Vicky\")\n",
        "\n",
        "print(f\"Total number of persons created: {Person.get_person_count()}\")"
      ],
      "execution_count": null,
      "outputs": [
        {
          "output_type": "stream",
          "name": "stdout",
          "text": [
            "Total number of persons created: 3\n"
          ]
        }
      ]
    },
    {
      "cell_type": "markdown",
      "metadata": {
        "id": "9b1ee511"
      },
      "source": [
        "**Q9. Write a class Fraction with attributes numerator and denominator. Override the str method to display the fraction as \"numerator/denominator\".**\n",
        "\n",
        "**Ans.:** This question demonstrates overriding the `__str__` dunder method to provide a user-friendly string representation of an object. We create a `Fraction` class with `numerator` and `denominator` attributes and implement the `__str__` method to format the output."
      ]
    },
    {
      "cell_type": "code",
      "metadata": {
        "colab": {
          "base_uri": "https://localhost:8080/"
        },
        "id": "3390852e",
        "outputId": "ec518ab8-6333-4f80-99b9-729b111d0611"
      },
      "source": [
        "class Fraction:\n",
        "    def __init__(self, numerator, denominator):\n",
        "        self.numerator = numerator\n",
        "        self.denominator = denominator\n",
        "\n",
        "    def __str__(self):\n",
        "        return f\"{self.numerator}/{self.denominator}\"\n",
        "\n",
        "# Example usage\n",
        "fraction = Fraction(3, 4)\n",
        "print(fraction)"
      ],
      "execution_count": null,
      "outputs": [
        {
          "output_type": "stream",
          "name": "stdout",
          "text": [
            "3/4\n"
          ]
        }
      ]
    },
    {
      "cell_type": "markdown",
      "metadata": {
        "id": "7c421a08"
      },
      "source": [
        "**Q10. Demonstrate operator overloading by creating a class Vector and overriding the add method to add two vectors.**\n",
        "\n",
        "**Ans.:** This question demonstrates **operator overloading**. We create a `Vector` class and override the `__add__` dunder method to define how the `+` operator should work when used with `Vector` objects."
      ]
    },
    {
      "cell_type": "code",
      "metadata": {
        "colab": {
          "base_uri": "https://localhost:8080/"
        },
        "id": "651a62be",
        "outputId": "118ca931-519b-4b30-a4d0-6b97630ec3cb"
      },
      "source": [
        "class Vector:\n",
        "    def __init__(self, x, y):\n",
        "        self.x = x\n",
        "        self.y = y\n",
        "\n",
        "    def __str__(self):\n",
        "        return f\"Vector({self.x}, {self.y})\"\n",
        "\n",
        "    def __add__(self, other):\n",
        "        if isinstance(other, Vector):\n",
        "            return Vector(self.x + other.x, self.y + other.y)\n",
        "        else:\n",
        "            raise TypeError(\"Can only add a Vector object\")\n",
        "\n",
        "# Example usage\n",
        "v1 = Vector(2, 3)\n",
        "v2 = Vector(5, 7)\n",
        "\n",
        "v3 = v1 + v2\n",
        "print(v3)"
      ],
      "execution_count": null,
      "outputs": [
        {
          "output_type": "stream",
          "name": "stdout",
          "text": [
            "Vector(7, 10)\n"
          ]
        }
      ]
    },
    {
      "cell_type": "markdown",
      "metadata": {
        "id": "42ed4f9e"
      },
      "source": [
        "**Q11. Create a class Person with attributes name and age. Add a method greet() that prints \"Hello, my name is {name} and I am {age} years old.\"**\n",
        "\n",
        "**Ans.:** This question demonstrates creating a simple class with attributes and a method. We create a `Person` class with `name` and `age` attributes and a `greet` method to print a formatted string."
      ]
    },
    {
      "cell_type": "code",
      "metadata": {
        "colab": {
          "base_uri": "https://localhost:8080/"
        },
        "id": "3ca106a4",
        "outputId": "43207707-9057-4535-aaa2-dd877165ba6d"
      },
      "source": [
        "class Person:\n",
        "    def __init__(self, name, age):\n",
        "        self.name = name\n",
        "        self.age = age\n",
        "\n",
        "    def greet(self):\n",
        "        print(f\"Hello, my name is {self.name} and I am {self.age} years old.\")\n",
        "\n",
        "# Example usage\n",
        "person = Person(\"Alice\", 30)\n",
        "person.greet()"
      ],
      "execution_count": null,
      "outputs": [
        {
          "output_type": "stream",
          "name": "stdout",
          "text": [
            "Hello, my name is Alice and I am 30 years old.\n"
          ]
        }
      ]
    },
    {
      "cell_type": "markdown",
      "metadata": {
        "id": "d4d52408"
      },
      "source": [
        "**Q12. Implement a class Student with attributes name and grades. Create a method average_grade() to compute the average of the grades.**\n",
        "\n",
        "**Ans.:** This question demonstrates creating a class with attributes (including a list) and a method to perform a calculation based on those attributes. We create a `Student` class with `name` and `grades` attributes and an `average_grade` method to compute the average of the grades."
      ]
    },
    {
      "cell_type": "code",
      "metadata": {
        "colab": {
          "base_uri": "https://localhost:8080/"
        },
        "id": "baec2453",
        "outputId": "390624a5-9df8-4b42-8f5c-fd2377f93364"
      },
      "source": [
        "class Student:\n",
        "    def __init__(self, name, grades):\n",
        "        self.name = name\n",
        "        self.grades = grades\n",
        "\n",
        "    def average_grade(self):\n",
        "        if not self.grades:  # Handle empty grades list\n",
        "            return 0\n",
        "        return sum(self.grades) / len(self.grades)\n",
        "\n",
        "# Example usage\n",
        "student1 = Student(\"Bob\", [85, 90, 78, 92])\n",
        "print(f\"{student1.name}'s average grade: {student1.average_grade()}\")\n",
        "\n",
        "student2 = Student(\"Eve\", [])\n",
        "print(f\"{student2.name}'s average grade: {student2.average_grade()}\")"
      ],
      "execution_count": null,
      "outputs": [
        {
          "output_type": "stream",
          "name": "stdout",
          "text": [
            "Bob's average grade: 86.25\n",
            "Eve's average grade: 0\n"
          ]
        }
      ]
    },
    {
      "cell_type": "markdown",
      "metadata": {
        "id": "e26cb4d7"
      },
      "source": [
        "**Q13. Create a class Rectangle with methods set_dimensions() to set the dimensions and area() to calculate the area.**\n",
        "\n",
        "**Ans.:** This question demonstrates creating a simple class with methods to set attributes and perform a calculation. We create a `Rectangle` class with methods to set the `length` and `width` and a method to calculate the `area`."
      ]
    },
    {
      "cell_type": "code",
      "metadata": {
        "colab": {
          "base_uri": "https://localhost:8080/"
        },
        "id": "c8b0baad",
        "outputId": "febac7f5-8e86-4cd3-b441-df3ccd53cdcd"
      },
      "source": [
        "class Rectangle:\n",
        "    def __init__(self):\n",
        "        self.length = 0\n",
        "        self.width = 0\n",
        "\n",
        "    def set_dimensions(self, length, width):\n",
        "        self.length = length\n",
        "        self.width = width\n",
        "\n",
        "    def area(self):\n",
        "        return self.length * self.width\n",
        "\n",
        "# Example usage\n",
        "rectangle = Rectangle()\n",
        "rectangle.set_dimensions(10, 5)\n",
        "print(f\"Area of the rectangle: {rectangle.area()}\")"
      ],
      "execution_count": null,
      "outputs": [
        {
          "output_type": "stream",
          "name": "stdout",
          "text": [
            "Area of the rectangle: 50\n"
          ]
        }
      ]
    },
    {
      "cell_type": "markdown",
      "metadata": {
        "id": "621ccfe1"
      },
      "source": [
        "**Q14. Create a class Employee with a method calculate_salary() that computes the salary based on hours worked and hourly rate. Create a derived class Manager that adds a bonus to the salary.**\n",
        "\n",
        "**Ans.:** This question demonstrates **inheritance** and **method overriding**. We create a base class `Employee` with a `calculate_salary` method. Then, we create a derived class `Manager` that inherits from `Employee` and overrides the `calculate_salary` method to include a bonus."
      ]
    },
    {
      "cell_type": "code",
      "metadata": {
        "colab": {
          "base_uri": "https://localhost:8080/"
        },
        "id": "4c69301d",
        "outputId": "31403042-8eb2-441d-8ff8-325ec27843c8"
      },
      "source": [
        "class Employee:\n",
        "    def __init__(self, hours_worked, hourly_rate):\n",
        "        self.hours_worked = hours_worked\n",
        "        self.hourly_rate = hourly_rate\n",
        "\n",
        "    def calculate_salary(self):\n",
        "        return self.hours_worked * self.hourly_rate\n",
        "\n",
        "class Manager(Employee):\n",
        "    def __init__(self, hours_worked, hourly_rate, bonus):\n",
        "        super().__init__(hours_worked, hourly_rate)\n",
        "        self.bonus = bonus\n",
        "\n",
        "    def calculate_salary(self):\n",
        "        base_salary = super().calculate_salary()\n",
        "        return base_salary + self.bonus\n",
        "\n",
        "# Example usage\n",
        "employee = Employee(40, 20)\n",
        "print(f\"Employee salary: ${employee.calculate_salary()}\")\n",
        "\n",
        "manager = Manager(40, 20, 500)\n",
        "print(f\"Manager salary: ${manager.calculate_salary()}\")"
      ],
      "execution_count": null,
      "outputs": [
        {
          "output_type": "stream",
          "name": "stdout",
          "text": [
            "Employee salary: $800\n",
            "Manager salary: $1300\n"
          ]
        }
      ]
    },
    {
      "cell_type": "markdown",
      "metadata": {
        "id": "4dcc5e13"
      },
      "source": [
        "**Q15. Create a class Product with attributes name, price, and quantity. Implement a method total_price() that calculates the total price of the product.**\n",
        "\n",
        "**Ans.:** This question demonstrates creating a simple class with attributes and a method to perform a calculation. We create a `Product` class with `name`, `price`, and `quantity` attributes and a `total_price` method to calculate the total cost."
      ]
    },
    {
      "cell_type": "code",
      "metadata": {
        "colab": {
          "base_uri": "https://localhost:8080/"
        },
        "id": "0f8aec20",
        "outputId": "8d477b53-74b9-483a-f94b-da4f269beb45"
      },
      "source": [
        "class Product:\n",
        "    def __init__(self, name, price, quantity):\n",
        "        self.name = name\n",
        "        self.price = price\n",
        "        self.quantity = quantity\n",
        "\n",
        "    def total_price(self):\n",
        "        return self.price * self.quantity\n",
        "\n",
        "# Example usage\n",
        "product1 = Product(\"Laptop\", 1200, 1)\n",
        "product2 = Product(\"Mouse\", 25, 5)\n",
        "\n",
        "print(f\"Total price of {product1.name}: ${product1.total_price()}\")\n",
        "print(f\"Total price of {product2.name}: ${product2.total_price()}\")"
      ],
      "execution_count": null,
      "outputs": [
        {
          "output_type": "stream",
          "name": "stdout",
          "text": [
            "Total price of Laptop: $1200\n",
            "Total price of Mouse: $125\n"
          ]
        }
      ]
    },
    {
      "cell_type": "markdown",
      "metadata": {
        "id": "217dee2a"
      },
      "source": [
        "**Q16. Create a class Animal with an abstract method sound(). Create two derived classes Cow and Sheep that implement the sound() method.**\n",
        "\n",
        "**Ans.:** This question demonstrates the use of **abstract classes** and **polymorphism**. We create an abstract base class `Animal` with an abstract method `sound`. Then, we create derived classes `Cow` and `Sheep` that inherit from `Animal` and provide their own implementation for the `sound` method."
      ]
    },
    {
      "cell_type": "code",
      "metadata": {
        "colab": {
          "base_uri": "https://localhost:8080/"
        },
        "id": "adb76a48",
        "outputId": "aa4102f6-71ca-453b-c11f-788d80388858"
      },
      "source": [
        "from abc import ABC, abstractmethod\n",
        "\n",
        "class Animal(ABC):\n",
        "    @abstractmethod\n",
        "    def sound(self):\n",
        "        pass\n",
        "\n",
        "class Cow(Animal):\n",
        "    def sound(self):\n",
        "        print(\"Moo!\")\n",
        "\n",
        "class Sheep(Animal):\n",
        "    def sound(self):\n",
        "        print(\"Baa!\")\n",
        "\n",
        "# Example usage\n",
        "# animal = Animal() # This would raise a TypeError because Animal is abstract\n",
        "\n",
        "cow = Cow()\n",
        "sheep = Sheep()\n",
        "\n",
        "cow.sound()\n",
        "sheep.sound()"
      ],
      "execution_count": null,
      "outputs": [
        {
          "output_type": "stream",
          "name": "stdout",
          "text": [
            "Moo!\n",
            "Baa!\n"
          ]
        }
      ]
    },
    {
      "cell_type": "markdown",
      "metadata": {
        "id": "173e1001"
      },
      "source": [
        "**Q17. Create a class Book with attributes title, author, and year_published. Add a method get_book_info() that returns a formatted string with the book's details.**\n",
        "\n",
        "**Ans.:** This question demonstrates creating a simple class with attributes and a method to return formatted information about the object. We create a `Book` class with `title`, `author`, and `year_published` attributes and a `get_book_info` method to return a formatted string."
      ]
    },
    {
      "cell_type": "code",
      "metadata": {
        "colab": {
          "base_uri": "https://localhost:8080/"
        },
        "id": "8da33fad",
        "outputId": "2dd3909a-5896-45c5-d373-6b09786c1b7c"
      },
      "source": [
        "class Book:\n",
        "    def __init__(self, title, author, year_published):\n",
        "        self.title = title\n",
        "        self.author = author\n",
        "        self.year_published = year_published\n",
        "\n",
        "    def get_book_info(self):\n",
        "        return f\"Title: {self.title}, Author: {self.author}, Year Published: {self.year_published}\"\n",
        "\n",
        "# Example usage\n",
        "book1 = Book(\"The Hitchhiker's Guide to the Galaxy\", \"Douglas Adams\", 1979)\n",
        "print(book1.get_book_info())"
      ],
      "execution_count": null,
      "outputs": [
        {
          "output_type": "stream",
          "name": "stdout",
          "text": [
            "Title: The Hitchhiker's Guide to the Galaxy, Author: Douglas Adams, Year Published: 1979\n"
          ]
        }
      ]
    },
    {
      "cell_type": "markdown",
      "metadata": {
        "id": "1591e977"
      },
      "source": [
        "**Q18. Create a class House with attributes address and price. Create a derived class Mansion that adds an attribute number_of_rooms.**\n",
        "\n",
        "**Ans.:** This question demonstrates **inheritance**. We create a base class `House` with `address` and `price` attributes. Then, we create a derived class `Mansion` that inherits from `House` and adds a `number_of_rooms` attribute."
      ]
    },
    {
      "cell_type": "code",
      "metadata": {
        "colab": {
          "base_uri": "https://localhost:8080/"
        },
        "id": "34d12a53",
        "outputId": "f8b29c6e-6649-4bd4-af25-50b5aae7e44c"
      },
      "source": [
        "class House:\n",
        "    def __init__(self, address, price):\n",
        "        self.address = address\n",
        "        self.price = price\n",
        "\n",
        "class Mansion(House):\n",
        "    def __init__(self, address, price, number_of_rooms):\n",
        "        super().__init__(address, price)\n",
        "        self.number_of_rooms = number_of_rooms\n",
        "\n",
        "# Example usage\n",
        "my_mansion = Mansion(\"123 Luxury Lane\", 5000000, 20)\n",
        "\n",
        "print(f\"Mansion Address: {my_mansion.address}\")\n",
        "print(f\"Mansion Price: ${my_mansion.price}\")\n",
        "print(f\"Number of Rooms: {my_mansion.number_of_rooms}\")"
      ],
      "execution_count": null,
      "outputs": [
        {
          "output_type": "stream",
          "name": "stdout",
          "text": [
            "Mansion Address: 123 Luxury Lane\n",
            "Mansion Price: $5000000\n",
            "Number of Rooms: 20\n"
          ]
        }
      ]
    }
  ]
}